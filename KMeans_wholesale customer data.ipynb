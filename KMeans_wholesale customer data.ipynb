{
 "cells": [
  {
   "cell_type": "markdown",
   "id": "206a1312",
   "metadata": {},
   "source": [
    "# Clustering: Wholesale customers"
   ]
  },
  {
   "cell_type": "markdown",
   "id": "d8a4bf29",
   "metadata": {},
   "source": [
    "The aim of this problem is to segment the clients of a wholesale distributor based on their annual spending on diverse product categories, like milk, grocery, region, etc."
   ]
  },
  {
   "cell_type": "code",
   "execution_count": 117,
   "id": "3f519e41",
   "metadata": {},
   "outputs": [],
   "source": [
    "import pandas as pd\n",
    "import numpy as np\n",
    "\n",
    "import warnings\n",
    "# Filter out FutureWarnings from scikit-learn\n",
    "warnings.filterwarnings(\"ignore\", category=FutureWarning, module=\"sklearn\")\n"
   ]
  },
  {
   "cell_type": "code",
   "execution_count": 118,
   "id": "3a1f631b",
   "metadata": {},
   "outputs": [
    {
     "data": {
      "text/html": [
       "<div>\n",
       "<style scoped>\n",
       "    .dataframe tbody tr th:only-of-type {\n",
       "        vertical-align: middle;\n",
       "    }\n",
       "\n",
       "    .dataframe tbody tr th {\n",
       "        vertical-align: top;\n",
       "    }\n",
       "\n",
       "    .dataframe thead th {\n",
       "        text-align: right;\n",
       "    }\n",
       "</style>\n",
       "<table border=\"1\" class=\"dataframe\">\n",
       "  <thead>\n",
       "    <tr style=\"text-align: right;\">\n",
       "      <th></th>\n",
       "      <th>Channel</th>\n",
       "      <th>Region</th>\n",
       "      <th>Fresh</th>\n",
       "      <th>Milk</th>\n",
       "      <th>Grocery</th>\n",
       "      <th>Frozen</th>\n",
       "      <th>Detergents_Paper</th>\n",
       "      <th>Delicassen</th>\n",
       "    </tr>\n",
       "  </thead>\n",
       "  <tbody>\n",
       "    <tr>\n",
       "      <th>0</th>\n",
       "      <td>2</td>\n",
       "      <td>3</td>\n",
       "      <td>12669</td>\n",
       "      <td>9656</td>\n",
       "      <td>7561</td>\n",
       "      <td>214</td>\n",
       "      <td>2674</td>\n",
       "      <td>1338</td>\n",
       "    </tr>\n",
       "    <tr>\n",
       "      <th>1</th>\n",
       "      <td>2</td>\n",
       "      <td>3</td>\n",
       "      <td>7057</td>\n",
       "      <td>9810</td>\n",
       "      <td>9568</td>\n",
       "      <td>1762</td>\n",
       "      <td>3293</td>\n",
       "      <td>1776</td>\n",
       "    </tr>\n",
       "    <tr>\n",
       "      <th>2</th>\n",
       "      <td>2</td>\n",
       "      <td>3</td>\n",
       "      <td>6353</td>\n",
       "      <td>8808</td>\n",
       "      <td>7684</td>\n",
       "      <td>2405</td>\n",
       "      <td>3516</td>\n",
       "      <td>7844</td>\n",
       "    </tr>\n",
       "    <tr>\n",
       "      <th>3</th>\n",
       "      <td>1</td>\n",
       "      <td>3</td>\n",
       "      <td>13265</td>\n",
       "      <td>1196</td>\n",
       "      <td>4221</td>\n",
       "      <td>6404</td>\n",
       "      <td>507</td>\n",
       "      <td>1788</td>\n",
       "    </tr>\n",
       "    <tr>\n",
       "      <th>4</th>\n",
       "      <td>2</td>\n",
       "      <td>3</td>\n",
       "      <td>22615</td>\n",
       "      <td>5410</td>\n",
       "      <td>7198</td>\n",
       "      <td>3915</td>\n",
       "      <td>1777</td>\n",
       "      <td>5185</td>\n",
       "    </tr>\n",
       "  </tbody>\n",
       "</table>\n",
       "</div>"
      ],
      "text/plain": [
       "   Channel  Region  Fresh  Milk  Grocery  Frozen  Detergents_Paper  Delicassen\n",
       "0        2       3  12669  9656     7561     214              2674        1338\n",
       "1        2       3   7057  9810     9568    1762              3293        1776\n",
       "2        2       3   6353  8808     7684    2405              3516        7844\n",
       "3        1       3  13265  1196     4221    6404               507        1788\n",
       "4        2       3  22615  5410     7198    3915              1777        5185"
      ]
     },
     "execution_count": 118,
     "metadata": {},
     "output_type": "execute_result"
    }
   ],
   "source": [
    "df=pd.read_csv('Wholesale customers data.csv')\n",
    "df.head()"
   ]
  },
  {
   "cell_type": "code",
   "execution_count": 119,
   "id": "0096fed7",
   "metadata": {},
   "outputs": [
    {
     "name": "stdout",
     "output_type": "stream",
     "text": [
      "<class 'pandas.core.frame.DataFrame'>\n",
      "RangeIndex: 440 entries, 0 to 439\n",
      "Data columns (total 8 columns):\n",
      " #   Column            Non-Null Count  Dtype\n",
      "---  ------            --------------  -----\n",
      " 0   Channel           440 non-null    int64\n",
      " 1   Region            440 non-null    int64\n",
      " 2   Fresh             440 non-null    int64\n",
      " 3   Milk              440 non-null    int64\n",
      " 4   Grocery           440 non-null    int64\n",
      " 5   Frozen            440 non-null    int64\n",
      " 6   Detergents_Paper  440 non-null    int64\n",
      " 7   Delicassen        440 non-null    int64\n",
      "dtypes: int64(8)\n",
      "memory usage: 27.6 KB\n"
     ]
    }
   ],
   "source": [
    "df.info()"
   ]
  },
  {
   "cell_type": "code",
   "execution_count": 120,
   "id": "7287046e",
   "metadata": {},
   "outputs": [
    {
     "data": {
      "text/plain": [
       "Channel             0\n",
       "Region              0\n",
       "Fresh               0\n",
       "Milk                0\n",
       "Grocery             0\n",
       "Frozen              0\n",
       "Detergents_Paper    0\n",
       "Delicassen          0\n",
       "dtype: int64"
      ]
     },
     "execution_count": 120,
     "metadata": {},
     "output_type": "execute_result"
    }
   ],
   "source": [
    "df.isnull().sum()"
   ]
  },
  {
   "cell_type": "markdown",
   "id": "00567ef8",
   "metadata": {},
   "source": [
    "no null values in the dataset"
   ]
  },
  {
   "cell_type": "markdown",
   "id": "bbd2e993",
   "metadata": {},
   "source": [
    "#### Clustering is the process of dividing the entire data into groups (also known as clusters) based on the patterns in the data"
   ]
  },
  {
   "cell_type": "markdown",
   "id": "676dc112",
   "metadata": {},
   "source": [
    "### The main objective of the K-Means algorithm is to minimize the sum of distances between the points and their respective cluster centroid.\n",
    "\n",
    "#### Step 1: Choose the number of clusters k\n",
    "\n",
    "#### Step 2: Select k random points from the data as centroids\n",
    "\n",
    "#### Step 3: Assign all the points to the closest cluster centroid\n",
    "\n",
    "#### Step 4: Recompute the centroids of newly formed clusters\n",
    "\n",
    "#### Step 5: Repeat steps 3 and 4"
   ]
  },
  {
   "cell_type": "markdown",
   "id": "954fe5ef",
   "metadata": {},
   "source": [
    "### preprocessing with standard scaler"
   ]
  },
  {
   "cell_type": "code",
   "execution_count": 121,
   "id": "2ec0c8c8",
   "metadata": {},
   "outputs": [],
   "source": [
    "from sklearn.preprocessing import StandardScaler\n",
    "sc=StandardScaler()\n",
    "df_scaled=sc.fit_transform(df)"
   ]
  },
  {
   "cell_type": "code",
   "execution_count": 122,
   "id": "aa66600f",
   "metadata": {},
   "outputs": [
    {
     "data": {
      "text/plain": [
       "array([[ 1.44865163,  0.59066829,  0.05293319, ..., -0.58936716,\n",
       "        -0.04356873, -0.06633906],\n",
       "       [ 1.44865163,  0.59066829, -0.39130197, ..., -0.27013618,\n",
       "         0.08640684,  0.08915105],\n",
       "       [ 1.44865163,  0.59066829, -0.44702926, ..., -0.13753572,\n",
       "         0.13323164,  2.24329255],\n",
       "       ...,\n",
       "       [ 1.44865163,  0.59066829,  0.20032554, ..., -0.54337975,\n",
       "         2.51121768,  0.12145607],\n",
       "       [-0.69029709,  0.59066829, -0.13538389, ..., -0.41944059,\n",
       "        -0.56977032,  0.21304614],\n",
       "       [-0.69029709,  0.59066829, -0.72930698, ..., -0.62009417,\n",
       "        -0.50488752, -0.52286938]])"
      ]
     },
     "execution_count": 122,
     "metadata": {},
     "output_type": "execute_result"
    }
   ],
   "source": [
    "df_scaled"
   ]
  },
  {
   "cell_type": "code",
   "execution_count": 123,
   "id": "86ca5cb5",
   "metadata": {},
   "outputs": [],
   "source": [
    "dff=pd.DataFrame(df_scaled)"
   ]
  },
  {
   "cell_type": "code",
   "execution_count": 124,
   "id": "8e5180cb",
   "metadata": {},
   "outputs": [
    {
     "data": {
      "text/html": [
       "<div>\n",
       "<style scoped>\n",
       "    .dataframe tbody tr th:only-of-type {\n",
       "        vertical-align: middle;\n",
       "    }\n",
       "\n",
       "    .dataframe tbody tr th {\n",
       "        vertical-align: top;\n",
       "    }\n",
       "\n",
       "    .dataframe thead th {\n",
       "        text-align: right;\n",
       "    }\n",
       "</style>\n",
       "<table border=\"1\" class=\"dataframe\">\n",
       "  <thead>\n",
       "    <tr style=\"text-align: right;\">\n",
       "      <th></th>\n",
       "      <th>0</th>\n",
       "      <th>1</th>\n",
       "      <th>2</th>\n",
       "      <th>3</th>\n",
       "      <th>4</th>\n",
       "      <th>5</th>\n",
       "      <th>6</th>\n",
       "      <th>7</th>\n",
       "    </tr>\n",
       "  </thead>\n",
       "  <tbody>\n",
       "    <tr>\n",
       "      <th>0</th>\n",
       "      <td>1.448652</td>\n",
       "      <td>0.590668</td>\n",
       "      <td>0.052933</td>\n",
       "      <td>0.523568</td>\n",
       "      <td>-0.041115</td>\n",
       "      <td>-0.589367</td>\n",
       "      <td>-0.043569</td>\n",
       "      <td>-0.066339</td>\n",
       "    </tr>\n",
       "    <tr>\n",
       "      <th>1</th>\n",
       "      <td>1.448652</td>\n",
       "      <td>0.590668</td>\n",
       "      <td>-0.391302</td>\n",
       "      <td>0.544458</td>\n",
       "      <td>0.170318</td>\n",
       "      <td>-0.270136</td>\n",
       "      <td>0.086407</td>\n",
       "      <td>0.089151</td>\n",
       "    </tr>\n",
       "    <tr>\n",
       "      <th>2</th>\n",
       "      <td>1.448652</td>\n",
       "      <td>0.590668</td>\n",
       "      <td>-0.447029</td>\n",
       "      <td>0.408538</td>\n",
       "      <td>-0.028157</td>\n",
       "      <td>-0.137536</td>\n",
       "      <td>0.133232</td>\n",
       "      <td>2.243293</td>\n",
       "    </tr>\n",
       "    <tr>\n",
       "      <th>3</th>\n",
       "      <td>-0.690297</td>\n",
       "      <td>0.590668</td>\n",
       "      <td>0.100111</td>\n",
       "      <td>-0.624020</td>\n",
       "      <td>-0.392977</td>\n",
       "      <td>0.687144</td>\n",
       "      <td>-0.498588</td>\n",
       "      <td>0.093411</td>\n",
       "    </tr>\n",
       "  </tbody>\n",
       "</table>\n",
       "</div>"
      ],
      "text/plain": [
       "          0         1         2         3         4         5         6  \\\n",
       "0  1.448652  0.590668  0.052933  0.523568 -0.041115 -0.589367 -0.043569   \n",
       "1  1.448652  0.590668 -0.391302  0.544458  0.170318 -0.270136  0.086407   \n",
       "2  1.448652  0.590668 -0.447029  0.408538 -0.028157 -0.137536  0.133232   \n",
       "3 -0.690297  0.590668  0.100111 -0.624020 -0.392977  0.687144 -0.498588   \n",
       "\n",
       "          7  \n",
       "0 -0.066339  \n",
       "1  0.089151  \n",
       "2  2.243293  \n",
       "3  0.093411  "
      ]
     },
     "execution_count": 124,
     "metadata": {},
     "output_type": "execute_result"
    }
   ],
   "source": [
    "dff.head(4)"
   ]
  },
  {
   "cell_type": "markdown",
   "id": "5935740e",
   "metadata": {},
   "source": [
    "## Fit Data"
   ]
  },
  {
   "cell_type": "code",
   "execution_count": 125,
   "id": "5858716a",
   "metadata": {},
   "outputs": [],
   "source": [
    "from sklearn.cluster import KMeans\n",
    "model=KMeans()"
   ]
  },
  {
   "cell_type": "code",
   "execution_count": 126,
   "id": "a3b99dd2",
   "metadata": {},
   "outputs": [
    {
     "data": {
      "text/html": [
       "<style>#sk-container-id-9 {color: black;}#sk-container-id-9 pre{padding: 0;}#sk-container-id-9 div.sk-toggleable {background-color: white;}#sk-container-id-9 label.sk-toggleable__label {cursor: pointer;display: block;width: 100%;margin-bottom: 0;padding: 0.3em;box-sizing: border-box;text-align: center;}#sk-container-id-9 label.sk-toggleable__label-arrow:before {content: \"▸\";float: left;margin-right: 0.25em;color: #696969;}#sk-container-id-9 label.sk-toggleable__label-arrow:hover:before {color: black;}#sk-container-id-9 div.sk-estimator:hover label.sk-toggleable__label-arrow:before {color: black;}#sk-container-id-9 div.sk-toggleable__content {max-height: 0;max-width: 0;overflow: hidden;text-align: left;background-color: #f0f8ff;}#sk-container-id-9 div.sk-toggleable__content pre {margin: 0.2em;color: black;border-radius: 0.25em;background-color: #f0f8ff;}#sk-container-id-9 input.sk-toggleable__control:checked~div.sk-toggleable__content {max-height: 200px;max-width: 100%;overflow: auto;}#sk-container-id-9 input.sk-toggleable__control:checked~label.sk-toggleable__label-arrow:before {content: \"▾\";}#sk-container-id-9 div.sk-estimator input.sk-toggleable__control:checked~label.sk-toggleable__label {background-color: #d4ebff;}#sk-container-id-9 div.sk-label input.sk-toggleable__control:checked~label.sk-toggleable__label {background-color: #d4ebff;}#sk-container-id-9 input.sk-hidden--visually {border: 0;clip: rect(1px 1px 1px 1px);clip: rect(1px, 1px, 1px, 1px);height: 1px;margin: -1px;overflow: hidden;padding: 0;position: absolute;width: 1px;}#sk-container-id-9 div.sk-estimator {font-family: monospace;background-color: #f0f8ff;border: 1px dotted black;border-radius: 0.25em;box-sizing: border-box;margin-bottom: 0.5em;}#sk-container-id-9 div.sk-estimator:hover {background-color: #d4ebff;}#sk-container-id-9 div.sk-parallel-item::after {content: \"\";width: 100%;border-bottom: 1px solid gray;flex-grow: 1;}#sk-container-id-9 div.sk-label:hover label.sk-toggleable__label {background-color: #d4ebff;}#sk-container-id-9 div.sk-serial::before {content: \"\";position: absolute;border-left: 1px solid gray;box-sizing: border-box;top: 0;bottom: 0;left: 50%;z-index: 0;}#sk-container-id-9 div.sk-serial {display: flex;flex-direction: column;align-items: center;background-color: white;padding-right: 0.2em;padding-left: 0.2em;position: relative;}#sk-container-id-9 div.sk-item {position: relative;z-index: 1;}#sk-container-id-9 div.sk-parallel {display: flex;align-items: stretch;justify-content: center;background-color: white;position: relative;}#sk-container-id-9 div.sk-item::before, #sk-container-id-9 div.sk-parallel-item::before {content: \"\";position: absolute;border-left: 1px solid gray;box-sizing: border-box;top: 0;bottom: 0;left: 50%;z-index: -1;}#sk-container-id-9 div.sk-parallel-item {display: flex;flex-direction: column;z-index: 1;position: relative;background-color: white;}#sk-container-id-9 div.sk-parallel-item:first-child::after {align-self: flex-end;width: 50%;}#sk-container-id-9 div.sk-parallel-item:last-child::after {align-self: flex-start;width: 50%;}#sk-container-id-9 div.sk-parallel-item:only-child::after {width: 0;}#sk-container-id-9 div.sk-dashed-wrapped {border: 1px dashed gray;margin: 0 0.4em 0.5em 0.4em;box-sizing: border-box;padding-bottom: 0.4em;background-color: white;}#sk-container-id-9 div.sk-label label {font-family: monospace;font-weight: bold;display: inline-block;line-height: 1.2em;}#sk-container-id-9 div.sk-label-container {text-align: center;}#sk-container-id-9 div.sk-container {/* jupyter's `normalize.less` sets `[hidden] { display: none; }` but bootstrap.min.css set `[hidden] { display: none !important; }` so we also need the `!important` here to be able to override the default hidden behavior on the sphinx rendered scikit-learn.org. See: https://github.com/scikit-learn/scikit-learn/issues/21755 */display: inline-block !important;position: relative;}#sk-container-id-9 div.sk-text-repr-fallback {display: none;}</style><div id=\"sk-container-id-9\" class=\"sk-top-container\"><div class=\"sk-text-repr-fallback\"><pre>KMeans()</pre><b>In a Jupyter environment, please rerun this cell to show the HTML representation or trust the notebook. <br />On GitHub, the HTML representation is unable to render, please try loading this page with nbviewer.org.</b></div><div class=\"sk-container\" hidden><div class=\"sk-item\"><div class=\"sk-estimator sk-toggleable\"><input class=\"sk-toggleable__control sk-hidden--visually\" id=\"sk-estimator-id-9\" type=\"checkbox\" checked><label for=\"sk-estimator-id-9\" class=\"sk-toggleable__label sk-toggleable__label-arrow\">KMeans</label><div class=\"sk-toggleable__content\"><pre>KMeans()</pre></div></div></div></div></div>"
      ],
      "text/plain": [
       "KMeans()"
      ]
     },
     "execution_count": 126,
     "metadata": {},
     "output_type": "execute_result"
    }
   ],
   "source": [
    "model.fit(dff)"
   ]
  },
  {
   "cell_type": "code",
   "execution_count": 127,
   "id": "b3e528c2",
   "metadata": {
    "scrolled": true
   },
   "outputs": [
    {
     "data": {
      "text/plain": [
       "1068.9214301030897"
      ]
     },
     "execution_count": 127,
     "metadata": {},
     "output_type": "execute_result"
    }
   ],
   "source": [
    "model.inertia_"
   ]
  },
  {
   "cell_type": "markdown",
   "id": "62f4a033",
   "metadata": {},
   "source": [
    "##  Find optimum value of K : elbow method\n",
    "let’s see how we can use the elbow curve to determine the optimum number of clusters in Python.\n",
    "\n",
    "Keeping this in mind, we can say that the lesser the inertia value, the better our clusters are."
   ]
  },
  {
   "cell_type": "code",
   "execution_count": 128,
   "id": "009a40a7",
   "metadata": {},
   "outputs": [],
   "source": [
    "sse = []  # Initialize a list to store SSE (sum of squared distances)\n",
    "for k in range(1, 20):\n",
    "    model= KMeans(n_clusters=k, random_state=42)\n",
    "    model.fit(dff)\n",
    "    sse.append(model.inertia_)"
   ]
  },
  {
   "cell_type": "code",
   "execution_count": 129,
   "id": "5e84ba79",
   "metadata": {},
   "outputs": [
    {
     "data": {
      "image/png": "[encoded data removed]",
      "text/plain": [
       "<Figure size 640x480 with 1 Axes>"
      ]
     },
     "metadata": {},
     "output_type": "display_data"
    }
   ],
   "source": [
    "# Define your range of x values (1 to 10)\n",
    "x_values=range(1,20)\n",
    "sse_values=sse\n",
    "\n",
    "# create plot\n",
    "plt.plot(x_values,sse_values, marker='o')\n",
    "\n",
    "# Add labels and title (optional)\n",
    "plt.xlabel('K values')\n",
    "plt.ylabel('SSE')\n",
    "plt.title('Sum of Squared Errors (SSE)')\n",
    "plt.show()"
   ]
  },
  {
   "cell_type": "markdown",
   "id": "e77dfac1",
   "metadata": {},
   "source": [
    "### Build the final model\n",
    "We will choose K=5 and fit the model."
   ]
  },
  {
   "cell_type": "code",
   "execution_count": 130,
   "id": "dd8a526e",
   "metadata": {},
   "outputs": [
    {
     "data": {
      "text/html": [
       "<style>#sk-container-id-10 {color: black;}#sk-container-id-10 pre{padding: 0;}#sk-container-id-10 div.sk-toggleable {background-color: white;}#sk-container-id-10 label.sk-toggleable__label {cursor: pointer;display: block;width: 100%;margin-bottom: 0;padding: 0.3em;box-sizing: border-box;text-align: center;}#sk-container-id-10 label.sk-toggleable__label-arrow:before {content: \"▸\";float: left;margin-right: 0.25em;color: #696969;}#sk-container-id-10 label.sk-toggleable__label-arrow:hover:before {color: black;}#sk-container-id-10 div.sk-estimator:hover label.sk-toggleable__label-arrow:before {color: black;}#sk-container-id-10 div.sk-toggleable__content {max-height: 0;max-width: 0;overflow: hidden;text-align: left;background-color: #f0f8ff;}#sk-container-id-10 div.sk-toggleable__content pre {margin: 0.2em;color: black;border-radius: 0.25em;background-color: #f0f8ff;}#sk-container-id-10 input.sk-toggleable__control:checked~div.sk-toggleable__content {max-height: 200px;max-width: 100%;overflow: auto;}#sk-container-id-10 input.sk-toggleable__control:checked~label.sk-toggleable__label-arrow:before {content: \"▾\";}#sk-container-id-10 div.sk-estimator input.sk-toggleable__control:checked~label.sk-toggleable__label {background-color: #d4ebff;}#sk-container-id-10 div.sk-label input.sk-toggleable__control:checked~label.sk-toggleable__label {background-color: #d4ebff;}#sk-container-id-10 input.sk-hidden--visually {border: 0;clip: rect(1px 1px 1px 1px);clip: rect(1px, 1px, 1px, 1px);height: 1px;margin: -1px;overflow: hidden;padding: 0;position: absolute;width: 1px;}#sk-container-id-10 div.sk-estimator {font-family: monospace;background-color: #f0f8ff;border: 1px dotted black;border-radius: 0.25em;box-sizing: border-box;margin-bottom: 0.5em;}#sk-container-id-10 div.sk-estimator:hover {background-color: #d4ebff;}#sk-container-id-10 div.sk-parallel-item::after {content: \"\";width: 100%;border-bottom: 1px solid gray;flex-grow: 1;}#sk-container-id-10 div.sk-label:hover label.sk-toggleable__label {background-color: #d4ebff;}#sk-container-id-10 div.sk-serial::before {content: \"\";position: absolute;border-left: 1px solid gray;box-sizing: border-box;top: 0;bottom: 0;left: 50%;z-index: 0;}#sk-container-id-10 div.sk-serial {display: flex;flex-direction: column;align-items: center;background-color: white;padding-right: 0.2em;padding-left: 0.2em;position: relative;}#sk-container-id-10 div.sk-item {position: relative;z-index: 1;}#sk-container-id-10 div.sk-parallel {display: flex;align-items: stretch;justify-content: center;background-color: white;position: relative;}#sk-container-id-10 div.sk-item::before, #sk-container-id-10 div.sk-parallel-item::before {content: \"\";position: absolute;border-left: 1px solid gray;box-sizing: border-box;top: 0;bottom: 0;left: 50%;z-index: -1;}#sk-container-id-10 div.sk-parallel-item {display: flex;flex-direction: column;z-index: 1;position: relative;background-color: white;}#sk-container-id-10 div.sk-parallel-item:first-child::after {align-self: flex-end;width: 50%;}#sk-container-id-10 div.sk-parallel-item:last-child::after {align-self: flex-start;width: 50%;}#sk-container-id-10 div.sk-parallel-item:only-child::after {width: 0;}#sk-container-id-10 div.sk-dashed-wrapped {border: 1px dashed gray;margin: 0 0.4em 0.5em 0.4em;box-sizing: border-box;padding-bottom: 0.4em;background-color: white;}#sk-container-id-10 div.sk-label label {font-family: monospace;font-weight: bold;display: inline-block;line-height: 1.2em;}#sk-container-id-10 div.sk-label-container {text-align: center;}#sk-container-id-10 div.sk-container {/* jupyter's `normalize.less` sets `[hidden] { display: none; }` but bootstrap.min.css set `[hidden] { display: none !important; }` so we also need the `!important` here to be able to override the default hidden behavior on the sphinx rendered scikit-learn.org. See: https://github.com/scikit-learn/scikit-learn/issues/21755 */display: inline-block !important;position: relative;}#sk-container-id-10 div.sk-text-repr-fallback {display: none;}</style><div id=\"sk-container-id-10\" class=\"sk-top-container\"><div class=\"sk-text-repr-fallback\"><pre>KMeans(n_clusters=10, random_state=42)</pre><b>In a Jupyter environment, please rerun this cell to show the HTML representation or trust the notebook. <br />On GitHub, the HTML representation is unable to render, please try loading this page with nbviewer.org.</b></div><div class=\"sk-container\" hidden><div class=\"sk-item\"><div class=\"sk-estimator sk-toggleable\"><input class=\"sk-toggleable__control sk-hidden--visually\" id=\"sk-estimator-id-10\" type=\"checkbox\" checked><label for=\"sk-estimator-id-10\" class=\"sk-toggleable__label sk-toggleable__label-arrow\">KMeans</label><div class=\"sk-toggleable__content\"><pre>KMeans(n_clusters=10, random_state=42)</pre></div></div></div></div></div>"
      ],
      "text/plain": [
       "KMeans(n_clusters=10, random_state=42)"
      ]
     },
     "execution_count": 130,
     "metadata": {},
     "output_type": "execute_result"
    }
   ],
   "source": [
    "model=KMeans(n_clusters=10,random_state=42)\n",
    "model.fit(dff)"
   ]
  },
  {
   "cell_type": "code",
   "execution_count": 131,
   "id": "b2f14856",
   "metadata": {},
   "outputs": [
    {
     "data": {
      "text/plain": [
       "912.5084781932371"
      ]
     },
     "execution_count": 131,
     "metadata": {},
     "output_type": "execute_result"
    }
   ],
   "source": [
    "model.inertia_"
   ]
  },
  {
   "cell_type": "code",
   "execution_count": 132,
   "id": "7635aec0",
   "metadata": {},
   "outputs": [
    {
     "name": "stdout",
     "output_type": "stream",
     "text": [
      "SSE :  912.5084781932371\n",
      "\n",
      "Centroids: \n",
      " [[-6.27386830e-01  2.86431767e-01  3.33588172e-01 -2.74146113e-01\n",
      "  -4.45359596e-01  1.55893987e+00 -4.88682264e-01  3.89878547e-03]\n",
      " [ 1.44865163e+00  3.00401811e-01 -2.95285639e-01  2.35696393e-01\n",
      "   3.99232904e-01 -3.58849330e-01  4.12770613e-01 -1.71171865e-02]\n",
      " [-5.74678237e-01 -1.73324647e+00 -1.29878123e-01 -3.22925718e-01\n",
      "  -3.96994356e-01 -5.87061350e-02 -4.03661733e-01 -1.64266355e-01]\n",
      " [ 1.44865163e+00 -3.38679203e-01 -4.76124803e-01  1.49503264e+00\n",
      "   1.86227486e+00 -2.54050900e-01  1.98223390e+00  3.30229500e-01]\n",
      " [-6.90297086e-01  5.90668285e-01  1.96681731e+00  5.17550306e+00\n",
      "   1.28721685e+00  6.90059988e+00 -5.54861977e-01  1.64784475e+01]\n",
      " [-6.90297086e-01 -1.14607279e-01  3.83071671e+00  7.21166874e-02\n",
      "  -7.32938902e-02  1.32245668e+00 -3.21654227e-01  7.38769230e-01]\n",
      " [-5.97299316e-01  4.78233050e-01  1.20388827e+00 -3.83774345e-01\n",
      "  -3.97818323e-01 -1.41099766e-01 -4.64412234e-01  1.69548048e-02]\n",
      " [-6.90297086e-01  5.62354303e-01 -4.67226128e-01 -3.84714889e-01\n",
      "  -4.71154273e-01 -2.80113091e-01 -4.33992036e-01 -1.91382064e-01]\n",
      " [ 1.44865163e+00  3.32067245e-01  1.07676383e+00  5.10911660e+00\n",
      "   5.63831714e+00 -8.98985393e-02  5.68883695e+00  4.20295281e-01]\n",
      " [-6.90297086e-01 -5.58343155e-02  7.92784210e-01  5.61685048e-01\n",
      "  -1.13014360e-02  9.25255676e+00 -4.64047057e-01  9.33164138e-01]]\n"
     ]
    }
   ],
   "source": [
    "print('SSE : ',model.inertia_)\n",
    "print('\\nCentroids: \\n', model.cluster_centers_)"
   ]
  },
  {
   "cell_type": "code",
   "execution_count": 133,
   "id": "30640de5",
   "metadata": {},
   "outputs": [],
   "source": [
    "pred = model.predict(dff)"
   ]
  },
  {
   "cell_type": "code",
   "execution_count": 134,
   "id": "44379792",
   "metadata": {},
   "outputs": [
    {
     "data": {
      "text/plain": [
       "array([1, 1, 1, 0, 1, 1, 1, 1, 7, 1, 1, 1, 1, 1, 1, 7, 1, 7, 1, 7, 1, 7,\n",
       "       0, 3, 1, 1, 7, 7, 3, 6, 6, 7, 6, 6, 7, 1, 6, 1, 1, 5, 0, 6, 1, 3,\n",
       "       1, 3, 1, 8, 1, 3, 7, 7, 6, 1, 6, 7, 3, 1, 7, 7, 1, 8, 1, 1, 7, 3,\n",
       "       7, 1, 7, 7, 0, 6, 0, 1, 1, 6, 7, 3, 7, 7, 7, 1, 1, 6, 1, 8, 8, 5,\n",
       "       0, 6, 7, 0, 3, 9, 1, 7, 1, 7, 7, 7, 1, 1, 1, 5, 7, 7, 1, 1, 1, 1,\n",
       "       7, 1, 0, 7, 6, 7, 7, 7, 6, 7, 6, 7, 7, 1, 6, 5, 0, 1, 7, 6, 7, 7,\n",
       "       7, 7, 7, 7, 7, 7, 7, 7, 6, 6, 6, 0, 6, 3, 7, 7, 7, 6, 7, 7, 6, 7,\n",
       "       7, 3, 1, 6, 1, 1, 1, 7, 7, 3, 1, 1, 1, 7, 7, 7, 1, 3, 7, 1, 7, 1,\n",
       "       5, 7, 7, 7, 7, 5, 7, 4, 7, 7, 7, 7, 1, 1, 0, 7, 7, 1, 7, 0, 0, 1,\n",
       "       2, 2, 3, 3, 2, 2, 2, 3, 2, 2, 2, 3, 2, 3, 2, 2, 1, 2, 3, 2, 1, 2,\n",
       "       2, 2, 2, 2, 2, 2, 2, 2, 2, 2, 2, 2, 2, 2, 2, 2, 2, 2, 2, 5, 2, 2,\n",
       "       2, 2, 2, 1, 2, 2, 2, 2, 2, 3, 2, 2, 2, 2, 2, 2, 5, 5, 2, 2, 2, 2,\n",
       "       1, 2, 3, 2, 1, 2, 2, 2, 2, 6, 7, 7, 6, 0, 7, 1, 7, 1, 5, 0, 5, 6,\n",
       "       7, 0, 7, 6, 7, 7, 7, 1, 6, 1, 2, 1, 1, 7, 1, 3, 1, 1, 3, 1, 3, 2,\n",
       "       2, 3, 0, 6, 3, 2, 2, 1, 2, 2, 2, 3, 7, 2, 2, 2, 6, 9, 2, 7, 0, 2,\n",
       "       2, 3, 6, 8, 0, 1, 2, 0, 0, 0, 1, 1, 7, 3, 7, 7, 1, 1, 7, 3, 7, 3,\n",
       "       7, 1, 0, 7, 6, 1, 7, 7, 6, 7, 7, 7, 7, 1, 7, 7, 6, 7, 6, 0, 7, 1,\n",
       "       7, 7, 1, 6, 7, 1, 6, 0, 6, 7, 7, 7, 7, 6, 7, 7, 7, 7, 7, 0, 7, 7,\n",
       "       1, 0, 7, 7, 7, 0, 6, 6, 6, 7, 0, 1, 1, 7, 7, 7, 7, 0, 7, 1, 1, 7,\n",
       "       1, 7, 7, 1, 6, 1, 1, 0, 7, 0, 7, 7, 7, 0, 6, 7, 7, 0, 6, 3, 7, 7])"
      ]
     },
     "execution_count": 134,
     "metadata": {},
     "output_type": "execute_result"
    }
   ],
   "source": [
    "pred"
   ]
  },
  {
   "cell_type": "code",
   "execution_count": 135,
   "id": "bc0ad2f4",
   "metadata": {},
   "outputs": [],
   "source": [
    "dff['cluster'] = pred"
   ]
  },
  {
   "cell_type": "code",
   "execution_count": 136,
   "id": "57f3a476",
   "metadata": {},
   "outputs": [
    {
     "name": "stdout",
     "output_type": "stream",
     "text": [
      "\n",
      "Count in each cluster: \n",
      " 7    137\n",
      "1     98\n",
      "2     74\n",
      "6     46\n",
      "0     34\n",
      "3     32\n",
      "5     11\n",
      "8      5\n",
      "9      2\n",
      "4      1\n",
      "Name: cluster, dtype: int64\n"
     ]
    }
   ],
   "source": [
    "print('\\nCount in each cluster: \\n', dff['cluster'].value_counts())"
   ]
  },
  {
   "cell_type": "markdown",
   "id": "8179b3e3",
   "metadata": {},
   "source": [
    "We can see that 8th cluster has maximum number of samples, while 5th cluster has minimum number of samples."
   ]
  },
  {
   "cell_type": "markdown",
   "id": "a3439fb2",
   "metadata": {},
   "source": [
    "#### Cluster Labels:\n",
    "Each cluster is assigned a label starting from 0 up to the total number of clusters minus one. In this case, it appears that there are 10 clusters, labeled from 0 to 9."
   ]
  },
  {
   "cell_type": "markdown",
   "id": "6afef92a",
   "metadata": {},
   "source": [
    "#### Count in Each Cluster:\n",
    "The count in each cluster tells you how many data points from your dataset have been assigned to that particular cluster. For example, the 7th cluster has 137 data points, the 1st cluster has 98 data points, and so on."
   ]
  },
  {
   "cell_type": "markdown",
   "id": "1f1e9d6a",
   "metadata": {},
   "source": [
    "#### Cluster Homogeneity:\n",
    "In general, you would prefer clusters to be relatively balanced in terms of size. Highly imbalanced clusters might indicate that the algorithm is not performing well for some portions of your data."
   ]
  },
  {
   "cell_type": "markdown",
   "id": "c3c33f5f",
   "metadata": {},
   "source": [
    "### silhouette_score function\n",
    "The silhouette_score function calculates the average Silhouette Score for all data points in your dataset. The score ranges from -1 (poor clustering) to 1 (good clustering). A higher average Silhouette Score indicates better-defined and well-separated clusters."
   ]
  },
  {
   "cell_type": "code",
   "execution_count": 137,
   "id": "e2d42b1a",
   "metadata": {},
   "outputs": [],
   "source": [
    "from sklearn.metrics import silhouette_score"
   ]
  },
  {
   "cell_type": "code",
   "execution_count": 138,
   "id": "74126b5f",
   "metadata": {},
   "outputs": [],
   "source": [
    "silhouette_avg = silhouette_score(dff,pred)"
   ]
  },
  {
   "cell_type": "code",
   "execution_count": 139,
   "id": "f414cc01",
   "metadata": {},
   "outputs": [
    {
     "name": "stdout",
     "output_type": "stream",
     "text": [
      "Silhouette Score: 0.46688351164227304\n"
     ]
    }
   ],
   "source": [
    "# Print the Silhouette Score\n",
    "print(\"Silhouette Score:\", silhouette_avg)"
   ]
  },
  {
   "cell_type": "markdown",
   "id": "9dc102bc",
   "metadata": {},
   "source": [
    "The Silhouette Score of 0.46688351164227304 is a moderately good score, but its interpretation depends on the context of your clustering problem. Here's a general guideline for interpreting Silhouette Scores:\n",
    "\n",
    "\n",
    "A Silhouette Score closer to 1 indicates that the clusters are well-separated and have a good level of distinction between them. This suggests that the clustering is effective.\n",
    "\n",
    "\n",
    "A Silhouette Score closer to 0 suggests that data points may be on or near the decision boundary between two neighboring clusters. This means that the clusters are less distinct, and the data points could be assigned to multiple clusters.\n",
    "\n",
    "\n",
    "A Silhouette Score closer to -1 indicates that data points have been assigned to the wrong clusters, as they are more similar to neighboring clusters than to their assigned cluster."
   ]
  },
  {
   "cell_type": "code",
   "execution_count": null,
   "id": "ff99caa7",
   "metadata": {},
   "outputs": [],
   "source": []
  }
 ],
 "metadata": {
  "kernelspec": {
   "display_name": "Python 3 (ipykernel)",
   "language": "python",
   "name": "python3"
  },
  "language_info": {
   "codemirror_mode": {
    "name": "ipython",
    "version": 3
   },
   "file_extension": ".py",
   "mimetype": "text/x-python",
   "name": "python",
   "nbconvert_exporter": "python",
   "pygments_lexer": "ipython3",
   "version": "3.11.4"
  }
 },
 "nbformat": 4,
 "nbformat_minor": 5
}
